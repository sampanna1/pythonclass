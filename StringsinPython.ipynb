{
 "cells": [
  {
   "cell_type": "code",
   "execution_count": 4,
   "id": "8f91cbaa",
   "metadata": {},
   "outputs": [],
   "source": [
    "strText = \"Python is a programming language\""
   ]
  },
  {
   "cell_type": "code",
   "execution_count": 5,
   "id": "0366de02",
   "metadata": {},
   "outputs": [
    {
     "data": {
      "text/plain": [
       "'P'"
      ]
     },
     "execution_count": 5,
     "metadata": {},
     "output_type": "execute_result"
    }
   ],
   "source": [
    "strText[0]"
   ]
  },
  {
   "cell_type": "code",
   "execution_count": 12,
   "id": "f4290d55",
   "metadata": {},
   "outputs": [],
   "source": [
    "strText2 = \"Hello World\""
   ]
  },
  {
   "cell_type": "code",
   "execution_count": 15,
   "id": "93b9567d",
   "metadata": {},
   "outputs": [
    {
     "data": {
      "text/plain": [
       "'H'"
      ]
     },
     "execution_count": 15,
     "metadata": {},
     "output_type": "execute_result"
    }
   ],
   "source": [
    "strText2[0]"
   ]
  },
  {
   "cell_type": "code",
   "execution_count": 14,
   "id": "ae7eb9cd",
   "metadata": {},
   "outputs": [
    {
     "data": {
      "text/plain": [
       "'l'"
      ]
     },
     "execution_count": 14,
     "metadata": {},
     "output_type": "execute_result"
    }
   ],
   "source": [
    "strText2[2]"
   ]
  },
  {
   "cell_type": "markdown",
   "id": "dedf321d",
   "metadata": {},
   "source": [
    "# is operator \n",
    "is opertor is used to compare two obhects using id checks \n"
   ]
  },
  {
   "cell_type": "code",
   "execution_count": 19,
   "id": "1561c987",
   "metadata": {
    "scrolled": true
   },
   "outputs": [
    {
     "data": {
      "text/plain": [
       "True"
      ]
     },
     "execution_count": 19,
     "metadata": {},
     "output_type": "execute_result"
    }
   ],
   "source": [
    "a = \"Llanfairpwllgwyngyllgogerychwyrndrobwllllanty\"\n",
    "b = \"Llanfairpwllgwyngyllgogerychwyrndrobwllllanty\"\n",
    "a is b"
   ]
  },
  {
   "cell_type": "code",
   "execution_count": 30,
   "id": "69563e5e",
   "metadata": {},
   "outputs": [
    {
     "data": {
      "text/plain": [
       "False"
      ]
     },
     "execution_count": 30,
     "metadata": {},
     "output_type": "execute_result"
    }
   ],
   "source": [
    "a = \"Hello world\"\n",
    "b = \"Hello world\"\n",
    "a is  b \n",
    "#id (a),id(b)"
   ]
  },
  {
   "cell_type": "markdown",
   "id": "a047ca38",
   "metadata": {},
   "source": [
    "## Exam Question \n"
   ]
  },
  {
   "cell_type": "code",
   "execution_count": 38,
   "id": "bd48aecb",
   "metadata": {},
   "outputs": [
    {
     "data": {
      "text/plain": [
       "float"
      ]
     },
     "execution_count": 38,
     "metadata": {},
     "output_type": "execute_result"
    }
   ],
   "source": [
    "type(+1E10)      #float\n",
    "#type(5.0)        #float\n",
    "#type(\"True\")     #str\n",
    "#type (False)    #bool"
   ]
  },
  {
   "cell_type": "markdown",
   "id": "d952eaa3",
   "metadata": {},
   "source": [
    "# Order of Operations \n",
    "* Parentheses\n",
    "* Exponents \n",
    "* And \n",
    "* Multiplication and Division \n",
    "* Addition and subtraction \n",
    "* Unary poistive, negative not\n"
   ]
  },
  {
   "cell_type": "markdown",
   "id": "4cc56684",
   "metadata": {},
   "source": [
    "# Order of Operations \n",
    "\n",
    "* Parentheses\n",
    "* Exponents\n",
    "* Unary Positive, Negative\n",
    "* Multiplication and Division\n",
    "* Addition and Subtraction\n",
    "* And (logical operator, typically used in boolean expressions)\n"
   ]
  },
  {
   "cell_type": "code",
   "execution_count": 39,
   "id": "a8180fa0",
   "metadata": {},
   "outputs": [
    {
     "data": {
      "text/plain": [
       "15.0"
      ]
     },
     "execution_count": 39,
     "metadata": {},
     "output_type": "execute_result"
    }
   ],
   "source": [
    " result= (2+3)*(5-2)** 2/3\n",
    "result "
   ]
  },
  {
   "cell_type": "code",
   "execution_count": 42,
   "id": "92137ba5",
   "metadata": {},
   "outputs": [
    {
     "data": {
      "text/plain": [
       "15.0"
      ]
     },
     "execution_count": 42,
     "metadata": {},
     "output_type": "execute_result"
    }
   ],
   "source": [
    "result= (2+3)*(5-2)** 2/3\n",
    "# 1. Parenteses: (2+3) and calculated first, resulting in 5 and 3\n",
    "# 2. Exponents: 3**2 is calculated next, resulting in 9\n",
    "# 3. Multipication and Division: 5*9  equals 45/3 equals 15 \n",
    "\n",
    "result "
   ]
  },
  {
   "cell_type": "code",
   "execution_count": 46,
   "id": "80a0b73d",
   "metadata": {},
   "outputs": [
    {
     "data": {
      "text/plain": [
       "41.0"
      ]
     },
     "execution_count": 46,
     "metadata": {},
     "output_type": "execute_result"
    }
   ],
   "source": [
    "result = 4 + 5 *2 ** 3 -6/2\n",
    "# 1. Exponents:2 ** 3 equals 8.\n",
    "# 2. Multipication and Division: 5 * 8 equals 40. 6 / 2 equals 3.\n",
    "# 3. Addition and Subtraction: 4 + 40 equals 44. 44 - 3 equals 41.\n",
    "result \n"
   ]
  },
  {
   "cell_type": "code",
   "execution_count": 47,
   "id": "7ac27ae4",
   "metadata": {},
   "outputs": [
    {
     "data": {
      "text/plain": [
       "44"
      ]
     },
     "execution_count": 47,
     "metadata": {},
     "output_type": "execute_result"
    }
   ],
   "source": [
    "result = 4 + 5 *2 ** 3 \n",
    "result"
   ]
  },
  {
   "cell_type": "code",
   "execution_count": null,
   "id": "627e69cb",
   "metadata": {},
   "outputs": [],
   "source": []
  }
 ],
 "metadata": {
  "kernelspec": {
   "display_name": "Python 3 (ipykernel)",
   "language": "python",
   "name": "python3"
  },
  "language_info": {
   "codemirror_mode": {
    "name": "ipython",
    "version": 3
   },
   "file_extension": ".py",
   "mimetype": "text/x-python",
   "name": "python",
   "nbconvert_exporter": "python",
   "pygments_lexer": "ipython3",
   "version": "3.11.5"
  }
 },
 "nbformat": 4,
 "nbformat_minor": 5
}
