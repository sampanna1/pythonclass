{
 "cells": [
  {
   "cell_type": "code",
   "execution_count": 4,
   "id": "efd5634b",
   "metadata": {},
   "outputs": [
    {
     "name": "stdout",
     "output_type": "stream",
     "text": [
      "Hello World!!!!\n"
     ]
    }
   ],
   "source": [
    "print (\"Hello World!!!!\")"
   ]
  },
  {
   "cell_type": "code",
   "execution_count": 5,
   "id": "9f0ddab6",
   "metadata": {},
   "outputs": [
    {
     "data": {
      "text/plain": [
       "'Hello World!!!'"
      ]
     },
     "execution_count": 5,
     "metadata": {},
     "output_type": "execute_result"
    }
   ],
   "source": [
    "\"Hello World!!!\""
   ]
  },
  {
   "cell_type": "code",
   "execution_count": 7,
   "id": "dcf9e891",
   "metadata": {},
   "outputs": [],
   "source": [
    "a = 23 #Variable a  has a value of 23\n",
    "b =a #Variable b is cloned to cariable a \n",
    "c= 24 #variable c holds a value of 24\n",
    "#z = 25"
   ]
  },
  {
   "cell_type": "code",
   "execution_count": 8,
   "id": "a14b9ad8",
   "metadata": {},
   "outputs": [
    {
     "data": {
      "text/plain": [
       "23"
      ]
     },
     "execution_count": 8,
     "metadata": {},
     "output_type": "execute_result"
    }
   ],
   "source": [
    "a"
   ]
  },
  {
   "cell_type": "code",
   "execution_count": 9,
   "id": "432b7b17",
   "metadata": {},
   "outputs": [
    {
     "data": {
      "text/plain": [
       "23"
      ]
     },
     "execution_count": 9,
     "metadata": {},
     "output_type": "execute_result"
    }
   ],
   "source": [
    "b"
   ]
  },
  {
   "cell_type": "code",
   "execution_count": 10,
   "id": "9bea21a4",
   "metadata": {},
   "outputs": [
    {
     "data": {
      "text/plain": [
       "24"
      ]
     },
     "execution_count": 10,
     "metadata": {},
     "output_type": "execute_result"
    }
   ],
   "source": [
    "c"
   ]
  },
  {
   "cell_type": "code",
   "execution_count": 11,
   "id": "d0c2ee1a",
   "metadata": {},
   "outputs": [
    {
     "ename": "NameError",
     "evalue": "name 'z' is not defined",
     "output_type": "error",
     "traceback": [
      "\u001b[1;31m---------------------------------------------------------------------------\u001b[0m",
      "\u001b[1;31mNameError\u001b[0m                                 Traceback (most recent call last)",
      "Cell \u001b[1;32mIn[11], line 1\u001b[0m\n\u001b[1;32m----> 1\u001b[0m z\n",
      "\u001b[1;31mNameError\u001b[0m: name 'z' is not defined"
     ]
    }
   ],
   "source": [
    "z"
   ]
  },
  {
   "cell_type": "code",
   "execution_count": 17,
   "id": "38897880",
   "metadata": {},
   "outputs": [],
   "source": [
    "# Create a Variable name for account number \n",
    "accountNumber =  1234\n",
    "account_number = 1234"
   ]
  },
  {
   "cell_type": "code",
   "execution_count": 18,
   "id": "3f4aa6ba",
   "metadata": {},
   "outputs": [
    {
     "data": {
      "text/plain": [
       "1234"
      ]
     },
     "execution_count": 18,
     "metadata": {},
     "output_type": "execute_result"
    }
   ],
   "source": [
    "accountNumber"
   ]
  },
  {
   "cell_type": "code",
   "execution_count": null,
   "id": "6e55a218",
   "metadata": {},
   "outputs": [],
   "source": [
    "URL = \"https://www.google.com\"\n",
    "IP_Address = \"10.0.0.1\""
   ]
  },
  {
   "cell_type": "code",
   "execution_count": 21,
   "id": "8eebe200",
   "metadata": {},
   "outputs": [
    {
     "ename": "NameError",
     "evalue": "name 'IP_Address' is not defined",
     "output_type": "error",
     "traceback": [
      "\u001b[1;31m---------------------------------------------------------------------------\u001b[0m",
      "\u001b[1;31mNameError\u001b[0m                                 Traceback (most recent call last)",
      "Cell \u001b[1;32mIn[21], line 1\u001b[0m\n\u001b[1;32m----> 1\u001b[0m IP_Address\n",
      "\u001b[1;31mNameError\u001b[0m: name 'IP_Address' is not defined"
     ]
    }
   ],
   "source": [
    "IP_Address\n"
   ]
  },
  {
   "cell_type": "code",
   "execution_count": 22,
   "id": "d8348850",
   "metadata": {},
   "outputs": [],
   "source": [
    " strText = \"Hello World\" #the Data type is String \n",
    "intAccountNumber = 123   #the Data type is Integer "
   ]
  },
  {
   "cell_type": "code",
   "execution_count": 23,
   "id": "c61b7bca",
   "metadata": {},
   "outputs": [
    {
     "data": {
      "text/plain": [
       "123"
      ]
     },
     "execution_count": 23,
     "metadata": {},
     "output_type": "execute_result"
    }
   ],
   "source": [
    "intAccountNumber"
   ]
  },
  {
   "cell_type": "code",
   "execution_count": 25,
   "id": "679ab6fc",
   "metadata": {},
   "outputs": [
    {
     "data": {
      "text/plain": [
       "str"
      ]
     },
     "execution_count": 25,
     "metadata": {},
     "output_type": "execute_result"
    }
   ],
   "source": [
    "type(strText)"
   ]
  },
  {
   "cell_type": "code",
   "execution_count": 26,
   "id": "cfea3671",
   "metadata": {},
   "outputs": [
    {
     "data": {
      "text/plain": [
       "int"
      ]
     },
     "execution_count": 26,
     "metadata": {},
     "output_type": "execute_result"
    }
   ],
   "source": [
    "type(intAccountNumber)"
   ]
  },
  {
   "cell_type": "code",
   "execution_count": 27,
   "id": "58259036",
   "metadata": {},
   "outputs": [],
   "source": [
    "intAmount = 21.4"
   ]
  },
  {
   "cell_type": "code",
   "execution_count": 28,
   "id": "9b102013",
   "metadata": {},
   "outputs": [
    {
     "data": {
      "text/plain": [
       "float"
      ]
     },
     "execution_count": 28,
     "metadata": {},
     "output_type": "execute_result"
    }
   ],
   "source": [
    "type(intAmount)"
   ]
  },
  {
   "cell_type": "code",
   "execution_count": 29,
   "id": "c797a7b2",
   "metadata": {},
   "outputs": [],
   "source": [
    "strCity = \"\"\"This is a multi lined City Test\n",
    "Lorem Ipsum, Lorem Ipsum\n",
    "Lorem Ipsum, Lorem Ipsum\n",
    "Lorem Ipsum, Lorem Ipsum\n",
    "Lorem Ipsum, Lorem Ipsum\n",
    "Lorem Ipsum, Lorem Ipsum\n",
    "Lorem Ipsum, Lorem Ipsum\n",
    "Lorem Ipsum, Lorem Ipsum\"\"\"\n"
   ]
  },
  {
   "cell_type": "code",
   "execution_count": 31,
   "id": "550a37c8",
   "metadata": {},
   "outputs": [
    {
     "name": "stdout",
     "output_type": "stream",
     "text": [
      "This is a multi lined City Test\n",
      "Lorem Ipsum, Lorem Ipsum\n",
      "Lorem Ipsum, Lorem Ipsum\n",
      "Lorem Ipsum, Lorem Ipsum\n",
      "Lorem Ipsum, Lorem Ipsum\n",
      "Lorem Ipsum, Lorem Ipsum\n",
      "Lorem Ipsum, Lorem Ipsum\n",
      "Lorem Ipsum, Lorem Ipsum\n"
     ]
    }
   ],
   "source": [
    "print (strCity)"
   ]
  },
  {
   "cell_type": "code",
   "execution_count": 51,
   "id": "dc8fcdb4",
   "metadata": {},
   "outputs": [
    {
     "data": {
      "text/plain": [
       "str"
      ]
     },
     "execution_count": 51,
     "metadata": {},
     "output_type": "execute_result"
    }
   ],
   "source": [
    " #Code Segment 1\n",
    "    \n",
    "x1 = \"20\"\n",
    "y1 = 3    #int\n",
    "a = x1 * y1\n",
    "type(a)\n",
    "    \n",
    "    "
   ]
  },
  {
   "cell_type": "code",
   "execution_count": 52,
   "id": "8a6aa466",
   "metadata": {},
   "outputs": [
    {
     "data": {
      "text/plain": [
       "'202020'"
      ]
     },
     "execution_count": 52,
     "metadata": {},
     "output_type": "execute_result"
    }
   ],
   "source": [
    "a"
   ]
  },
  {
   "cell_type": "code",
   "execution_count": 44,
   "id": "64f88987",
   "metadata": {},
   "outputs": [
    {
     "data": {
      "text/plain": [
       "float"
      ]
     },
     "execution_count": 44,
     "metadata": {},
     "output_type": "execute_result"
    }
   ],
   "source": [
    " #Code Segment 1\n",
    "    \n",
    "x2 = 6\n",
    "y2 = 4\n",
    "b = x2 / y2\n",
    "type(b)\n",
    "    "
   ]
  },
  {
   "cell_type": "code",
   "execution_count": 46,
   "id": "727d1515",
   "metadata": {},
   "outputs": [
    {
     "data": {
      "text/plain": [
       "1.5"
      ]
     },
     "execution_count": 46,
     "metadata": {},
     "output_type": "execute_result"
    }
   ],
   "source": [
    "b"
   ]
  },
  {
   "cell_type": "code",
   "execution_count": 43,
   "id": "69239d00",
   "metadata": {},
   "outputs": [
    {
     "data": {
      "text/plain": [
       "float"
      ]
     },
     "execution_count": 43,
     "metadata": {},
     "output_type": "execute_result"
    }
   ],
   "source": [
    " #Code Segment 1\n",
    "    \n",
    "x3 = 2.5\n",
    "y3 = 1\n",
    "c = x3 / y3\n",
    "type(c)"
   ]
  },
  {
   "cell_type": "code",
   "execution_count": 47,
   "id": "1e43a334",
   "metadata": {},
   "outputs": [
    {
     "data": {
      "text/plain": [
       "2.5"
      ]
     },
     "execution_count": 47,
     "metadata": {},
     "output_type": "execute_result"
    }
   ],
   "source": [
    "c\n"
   ]
  },
  {
   "cell_type": "code",
   "execution_count": null,
   "id": "c1ec93f8",
   "metadata": {},
   "outputs": [],
   "source": [
    "#Answer: \n",
    "#After Executin Code segment 1, \n"
   ]
  },
  {
   "cell_type": "code",
   "execution_count": 62,
   "id": "7ad15500",
   "metadata": {},
   "outputs": [
    {
     "ename": "TypeError",
     "evalue": "'str' object does not support item assignment",
     "output_type": "error",
     "traceback": [
      "\u001b[1;31m---------------------------------------------------------------------------\u001b[0m",
      "\u001b[1;31mTypeError\u001b[0m                                 Traceback (most recent call last)",
      "Cell \u001b[1;32mIn[62], line 6\u001b[0m\n\u001b[0;32m      3\u001b[0m strText \u001b[38;5;241m=\u001b[39m \u001b[38;5;124m\"\u001b[39m\u001b[38;5;124mHello!\u001b[39m\u001b[38;5;124m\"\u001b[39m \n\u001b[0;32m      4\u001b[0m \u001b[38;5;66;03m#Stings are immutable (once you create them, you cannot change them)\u001b[39;00m\n\u001b[1;32m----> 6\u001b[0m strText[\u001b[38;5;241m0\u001b[39m] \u001b[38;5;241m=\u001b[39m \u001b[38;5;124m\"\u001b[39m\u001b[38;5;124mT\u001b[39m\u001b[38;5;124m\"\u001b[39m\n",
      "\u001b[1;31mTypeError\u001b[0m: 'str' object does not support item assignment"
     ]
    }
   ],
   "source": [
    "# Importanc of String Data Sets\n",
    "\n",
    "strText = \"Hello!\" \n",
    "#Stings are immutable (once you create them, you cannot change them)\n",
    "\n",
    "strText[0] = \"T\"\n"
   ]
  },
  {
   "cell_type": "code",
   "execution_count": 63,
   "id": "365bbfa4",
   "metadata": {},
   "outputs": [
    {
     "data": {
      "text/plain": [
       "97"
      ]
     },
     "execution_count": 63,
     "metadata": {},
     "output_type": "execute_result"
    }
   ],
   "source": [
    "# print the ordinal numbrs for characters \n",
    "ord(\"a\")"
   ]
  },
  {
   "cell_type": "code",
   "execution_count": 65,
   "id": "afc35c22",
   "metadata": {},
   "outputs": [
    {
     "data": {
      "text/plain": [
       "(72, 101, 108, 108, 111)"
      ]
     },
     "execution_count": 65,
     "metadata": {},
     "output_type": "execute_result"
    }
   ],
   "source": [
    "ord (\"H\"),ord (\"e\"),ord (\"l\"),ord (\"l\"),ord (\"o\")"
   ]
  },
  {
   "cell_type": "code",
   "execution_count": 66,
   "id": "5d4c063b",
   "metadata": {},
   "outputs": [
    {
     "ename": "TypeError",
     "evalue": "ord() expected a character, but string of length 5 found",
     "output_type": "error",
     "traceback": [
      "\u001b[1;31m---------------------------------------------------------------------------\u001b[0m",
      "\u001b[1;31mTypeError\u001b[0m                                 Traceback (most recent call last)",
      "Cell \u001b[1;32mIn[66], line 1\u001b[0m\n\u001b[1;32m----> 1\u001b[0m \u001b[38;5;28mord\u001b[39m (\u001b[38;5;124m\"\u001b[39m\u001b[38;5;124mhello\u001b[39m\u001b[38;5;124m\"\u001b[39m)\n",
      "\u001b[1;31mTypeError\u001b[0m: ord() expected a character, but string of length 5 found"
     ]
    }
   ],
   "source": [
    " ord (\"hello\")"
   ]
  },
  {
   "cell_type": "markdown",
   "id": "d6b4f55a",
   "metadata": {},
   "source": [
    "print(\"This is a test\")\n"
   ]
  },
  {
   "cell_type": "code",
   "execution_count": 67,
   "id": "7d42ac18",
   "metadata": {},
   "outputs": [],
   "source": [
    "##nteger Division \n"
   ]
  },
  {
   "cell_type": "markdown",
   "id": "242df73e",
   "metadata": {},
   "source": [
    "##Integer Division\n",
    "\n",
    "*\"ture division\" performed by \"/\"\n",
    "*\"floor division\" performed by \"//\""
   ]
  },
  {
   "cell_type": "markdown",
   "id": "95aee314",
   "metadata": {},
   "source": [
    "##Integer Division\n",
    "\n",
    "*\"ture division\" performed by \"/\"\n",
    "*\"floor division\" performed by \"//\""
   ]
  },
  {
   "cell_type": "markdown",
   "id": "44fb0d3e",
   "metadata": {},
   "source": [
    "##Integer Division\n",
    "\n",
    "*\"ture division\" performed by \"/\"\n",
    "*\"floor division\" performed by \"//\""
   ]
  },
  {
   "cell_type": "code",
   "execution_count": null,
   "id": "5e2d6188",
   "metadata": {},
   "outputs": [],
   "source": [
    "##Integer Division\n",
    "\n",
    "*\"ture division\" performed by \"/\"\n",
    "*\"floor division\" performed by \"//\""
   ]
  },
  {
   "cell_type": "markdown",
   "id": "e71d2169",
   "metadata": {},
   "source": [
    "The operator \"//\" performs floor division, i.e., the dividend is divided by the divisor - like in true divison - but the floor of the result will be returned\n"
   ]
  },
  {
   "cell_type": "code",
   "execution_count": 69,
   "id": "c7075c79",
   "metadata": {},
   "outputs": [
    {
     "data": {
      "text/plain": [
       "3"
      ]
     },
     "execution_count": 69,
     "metadata": {},
     "output_type": "execute_result"
    }
   ],
   "source": [
    "9 // 3\n"
   ]
  },
  {
   "cell_type": "code",
   "execution_count": 70,
   "id": "8c33fbe8",
   "metadata": {},
   "outputs": [
    {
     "data": {
      "text/plain": [
       "3"
      ]
     },
     "execution_count": 70,
     "metadata": {},
     "output_type": "execute_result"
    }
   ],
   "source": [
    "10//3\n"
   ]
  },
  {
   "cell_type": "code",
   "execution_count": 71,
   "id": "ae00293d",
   "metadata": {},
   "outputs": [
    {
     "data": {
      "text/plain": [
       "3"
      ]
     },
     "execution_count": 71,
     "metadata": {},
     "output_type": "execute_result"
    }
   ],
   "source": [
    "11//3"
   ]
  },
  {
   "cell_type": "code",
   "execution_count": 72,
   "id": "b2988757",
   "metadata": {},
   "outputs": [
    {
     "data": {
      "text/plain": [
       "3"
      ]
     },
     "execution_count": 72,
     "metadata": {},
     "output_type": "execute_result"
    }
   ],
   "source": [
    "12//4"
   ]
  },
  {
   "cell_type": "code",
   "execution_count": 73,
   "id": "6d66cee9",
   "metadata": {},
   "outputs": [
    {
     "data": {
      "text/plain": [
       "3.0"
      ]
     },
     "execution_count": 73,
     "metadata": {},
     "output_type": "execute_result"
    }
   ],
   "source": [
    "10.0//3"
   ]
  },
  {
   "cell_type": "code",
   "execution_count": 74,
   "id": "81f19e76",
   "metadata": {},
   "outputs": [
    {
     "data": {
      "text/plain": [
       "-3"
      ]
     },
     "execution_count": 74,
     "metadata": {},
     "output_type": "execute_result"
    }
   ],
   "source": [
    "-7//3"
   ]
  },
  {
   "cell_type": "markdown",
   "id": "d924b60a",
   "metadata": {},
   "source": [
    "## Floor Division for Negative numerator "
   ]
  },
  {
   "cell_type": "code",
   "execution_count": 85,
   "id": "e6471912",
   "metadata": {},
   "outputs": [
    {
     "name": "stdout",
     "output_type": "stream",
     "text": [
      "Numerator: 10 Denominator: 3 Result: 3\n"
     ]
    }
   ],
   "source": [
    "Numerator = 10\n",
    "denominator = 3\n",
    "result = Numerator // denominator\n",
    "print(\"Numerator:\", Numerator, \"Denominator:\", denominator, \"Result:\", result)\n",
    "\n"
   ]
  },
  {
   "cell_type": "code",
   "execution_count": null,
   "id": "fd0406f7",
   "metadata": {},
   "outputs": [],
   "source": []
  },
  {
   "cell_type": "code",
   "execution_count": 79,
   "id": "2c86a28e",
   "metadata": {},
   "outputs": [
    {
     "ename": "SyntaxError",
     "evalue": "invalid syntax. Perhaps you forgot a comma? (3234893172.py, line 1)",
     "output_type": "error",
     "traceback": [
      "\u001b[1;36m  Cell \u001b[1;32mIn[79], line 1\u001b[1;36m\u001b[0m\n\u001b[1;33m    print (\"numerator:\" numerator, \"denominotor:\", denominotor, \"result:\", result)\u001b[0m\n\u001b[1;37m           ^\u001b[0m\n\u001b[1;31mSyntaxError\u001b[0m\u001b[1;31m:\u001b[0m invalid syntax. Perhaps you forgot a comma?\n"
     ]
    }
   ],
   "source": [
    "print (\"numerator:\" numerator, \"denominotor:\", denominotor, \"result:\", result)"
   ]
  },
  {
   "cell_type": "code",
   "execution_count": null,
   "id": "5b6c7267",
   "metadata": {},
   "outputs": [],
   "source": []
  }
 ],
 "metadata": {
  "kernelspec": {
   "display_name": "Python 3 (ipykernel)",
   "language": "python",
   "name": "python3"
  },
  "language_info": {
   "codemirror_mode": {
    "name": "ipython",
    "version": 3
   },
   "file_extension": ".py",
   "mimetype": "text/x-python",
   "name": "python",
   "nbconvert_exporter": "python",
   "pygments_lexer": "ipython3",
   "version": "3.11.5"
  }
 },
 "nbformat": 4,
 "nbformat_minor": 5
}
